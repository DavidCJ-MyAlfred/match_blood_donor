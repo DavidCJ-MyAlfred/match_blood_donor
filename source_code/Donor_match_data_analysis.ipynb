{
 "cells": [
  {
   "cell_type": "code",
   "execution_count": 88,
   "metadata": {},
   "outputs": [],
   "source": [
    "import numpy as np\n",
    "import pandas as pd\n",
    "import names\n",
    "import random\n",
    "\n",
    "from sklearn.ensemble import RandomForestClassifier, GradientBoostingClassifier\n",
    "from sklearn.preprocessing import LabelEncoder, StandardScaler \n",
    "from sklearn.metrics import accuracy_score, log_loss\n",
    "from sklearn.model_selection import train_test_split, GridSearchCV, cross_val_score, StratifiedKFold, learning_curve"
   ]
  },
  {
   "cell_type": "code",
   "execution_count": 125,
   "metadata": {},
   "outputs": [],
   "source": [
    "df = pd.read_csv(\"transfusion.data\")\n",
    "df.columns = ['Recency', 'Frequency', 'Monetary', 'Time', 'Label']"
   ]
  },
  {
   "cell_type": "code",
   "execution_count": 126,
   "metadata": {},
   "outputs": [
    {
     "data": {
      "text/html": [
       "<div>\n",
       "<style scoped>\n",
       "    .dataframe tbody tr th:only-of-type {\n",
       "        vertical-align: middle;\n",
       "    }\n",
       "\n",
       "    .dataframe tbody tr th {\n",
       "        vertical-align: top;\n",
       "    }\n",
       "\n",
       "    .dataframe thead th {\n",
       "        text-align: right;\n",
       "    }\n",
       "</style>\n",
       "<table border=\"1\" class=\"dataframe\">\n",
       "  <thead>\n",
       "    <tr style=\"text-align: right;\">\n",
       "      <th></th>\n",
       "      <th>Recency</th>\n",
       "      <th>Frequency</th>\n",
       "      <th>Monetary</th>\n",
       "      <th>Time</th>\n",
       "      <th>Label</th>\n",
       "    </tr>\n",
       "  </thead>\n",
       "  <tbody>\n",
       "    <tr>\n",
       "      <th>0</th>\n",
       "      <td>2</td>\n",
       "      <td>50</td>\n",
       "      <td>12500</td>\n",
       "      <td>98</td>\n",
       "      <td>1</td>\n",
       "    </tr>\n",
       "    <tr>\n",
       "      <th>1</th>\n",
       "      <td>0</td>\n",
       "      <td>13</td>\n",
       "      <td>3250</td>\n",
       "      <td>28</td>\n",
       "      <td>1</td>\n",
       "    </tr>\n",
       "    <tr>\n",
       "      <th>2</th>\n",
       "      <td>1</td>\n",
       "      <td>16</td>\n",
       "      <td>4000</td>\n",
       "      <td>35</td>\n",
       "      <td>1</td>\n",
       "    </tr>\n",
       "    <tr>\n",
       "      <th>3</th>\n",
       "      <td>2</td>\n",
       "      <td>20</td>\n",
       "      <td>5000</td>\n",
       "      <td>45</td>\n",
       "      <td>1</td>\n",
       "    </tr>\n",
       "    <tr>\n",
       "      <th>4</th>\n",
       "      <td>1</td>\n",
       "      <td>24</td>\n",
       "      <td>6000</td>\n",
       "      <td>77</td>\n",
       "      <td>0</td>\n",
       "    </tr>\n",
       "  </tbody>\n",
       "</table>\n",
       "</div>"
      ],
      "text/plain": [
       "   Recency  Frequency  Monetary  Time  Label\n",
       "0        2         50     12500    98      1\n",
       "1        0         13      3250    28      1\n",
       "2        1         16      4000    35      1\n",
       "3        2         20      5000    45      1\n",
       "4        1         24      6000    77      0"
      ]
     },
     "execution_count": 126,
     "metadata": {},
     "output_type": "execute_result"
    }
   ],
   "source": [
    "df.head()"
   ]
  },
  {
   "cell_type": "code",
   "execution_count": 83,
   "metadata": {},
   "outputs": [
    {
     "name": "stdout",
     "output_type": "stream",
     "text": [
      "<class 'pandas.core.frame.DataFrame'>\n",
      "RangeIndex: 748 entries, 0 to 747\n",
      "Data columns (total 5 columns):\n",
      "Recency      748 non-null int64\n",
      "Frequency    748 non-null int64\n",
      "Monetary     748 non-null int64\n",
      "Time         748 non-null int64\n",
      "Label        748 non-null int64\n",
      "dtypes: int64(5)\n",
      "memory usage: 29.3 KB\n"
     ]
    }
   ],
   "source": [
    "df.info()"
   ]
  },
  {
   "cell_type": "code",
   "execution_count": 39,
   "metadata": {},
   "outputs": [
    {
     "data": {
      "text/plain": [
       "0    570\n",
       "1    178\n",
       "Name: Label, dtype: int64"
      ]
     },
     "execution_count": 39,
     "metadata": {},
     "output_type": "execute_result"
    }
   ],
   "source": [
    "df.Label.value_counts()"
   ]
  },
  {
   "cell_type": "code",
   "execution_count": 127,
   "metadata": {},
   "outputs": [],
   "source": [
    "df = pd.read_csv(\"transfusion.data\")\n",
    "df.columns = ['Recency', 'Frequency', 'Monetary', 'Time', 'Label']\n",
    "\n",
    "labels = df['Label']\n",
    "df = df.drop(['Label'], axis = 1)\n",
    "\n",
    "X_train, X_test, y_train, y_test = train_test_split(df, labels, test_size=0.2)\n"
   ]
  },
  {
   "cell_type": "code",
   "execution_count": 128,
   "metadata": {},
   "outputs": [
    {
     "name": "stderr",
     "output_type": "stream",
     "text": [
      "/anaconda3/lib/python3.6/site-packages/sklearn/preprocessing/data.py:625: DataConversionWarning: Data with input dtype int64 were all converted to float64 by StandardScaler.\n",
      "  return self.partial_fit(X, y)\n",
      "/anaconda3/lib/python3.6/site-packages/ipykernel_launcher.py:2: DataConversionWarning: Data with input dtype int64 were all converted to float64 by StandardScaler.\n",
      "  \n",
      "/anaconda3/lib/python3.6/site-packages/sklearn/preprocessing/data.py:625: DataConversionWarning: Data with input dtype int64 were all converted to float64 by StandardScaler.\n",
      "  return self.partial_fit(X, y)\n",
      "/anaconda3/lib/python3.6/site-packages/ipykernel_launcher.py:5: DataConversionWarning: Data with input dtype int64 were all converted to float64 by StandardScaler.\n",
      "  \"\"\"\n"
     ]
    }
   ],
   "source": [
    "scaler = StandardScaler().fit(X_train)\n",
    "X_train = scaler.transform(X_train)\n",
    "\n",
    "scaler = StandardScaler().fit(X_test)\n",
    "X_test = scaler.transform(X_test)"
   ]
  },
  {
   "cell_type": "code",
   "execution_count": 129,
   "metadata": {},
   "outputs": [
    {
     "name": "stdout",
     "output_type": "stream",
     "text": [
      "Accuracy: 74.0%\n"
     ]
    },
    {
     "name": "stderr",
     "output_type": "stream",
     "text": [
      "/anaconda3/lib/python3.6/site-packages/sklearn/ensemble/forest.py:246: FutureWarning: The default value of n_estimators will change from 10 in version 0.20 to 100 in 0.22.\n",
      "  \"10 in version 0.20 to 100 in 0.22.\", FutureWarning)\n"
     ]
    }
   ],
   "source": [
    "clf = RandomForestClassifier()\n",
    "\n",
    "'''rf_param_grid = {\"max_depth\": [80, 90, 100, 110],\n",
    "              \"max_features\": [2, 3],\n",
    "              \"min_samples_split\": [8, 10, 12],\n",
    "              \"min_samples_leaf\": [3, 4, 5],\n",
    "              \"bootstrap\": [False],\n",
    "              \"n_estimators\" :[100, 200, 300, 1000],\n",
    "              \"criterion\": [\"gini\"]}\n",
    "\n",
    "\n",
    "gsRFC = GridSearchCV(clf,param_grid = rf_param_grid, cv=kfold, scoring=\"accuracy\", n_jobs= 4, verbose = 1)\n",
    "\n",
    "gsRFC.fit(X_train,y_train)\n",
    "\n",
    "RFC_best = gsRFC.best_estimator_\n",
    "\n",
    "# Best score\n",
    "gsRFC.best_score_'''\n",
    "\n",
    "clf.fit(X_train, y_train)\n",
    "predictions = clf.predict(X_test)\n",
    "accuracy = accuracy_score(y_test, predictions) * 100\n",
    "print(\"Accuracy: \" + str(accuracy) + \"%\")"
   ]
  },
  {
   "cell_type": "code",
   "execution_count": 80,
   "metadata": {},
   "outputs": [
    {
     "name": "stdout",
     "output_type": "stream",
     "text": [
      "<class 'pandas.core.frame.DataFrame'>\n",
      "RangeIndex: 748 entries, 0 to 747\n",
      "Data columns (total 4 columns):\n",
      "Recency      748 non-null int64\n",
      "Frequency    748 non-null int64\n",
      "Monetary     748 non-null int64\n",
      "Time         748 non-null int64\n",
      "dtypes: int64(4)\n",
      "memory usage: 23.5 KB\n"
     ]
    }
   ],
   "source": [
    "df.info()"
   ]
  },
  {
   "cell_type": "code",
   "execution_count": 91,
   "metadata": {},
   "outputs": [
    {
     "name": "stdout",
     "output_type": "stream",
     "text": [
      "Fitting 10 folds for each of 72 candidates, totalling 720 fits\n"
     ]
    },
    {
     "name": "stderr",
     "output_type": "stream",
     "text": [
      "[Parallel(n_jobs=4)]: Using backend LokyBackend with 4 concurrent workers.\n",
      "[Parallel(n_jobs=4)]: Done  42 tasks      | elapsed:    6.5s\n",
      "[Parallel(n_jobs=4)]: Done 192 tasks      | elapsed:   13.5s\n",
      "[Parallel(n_jobs=4)]: Done 442 tasks      | elapsed:   24.3s\n",
      "[Parallel(n_jobs=4)]: Done 720 out of 720 | elapsed:   35.9s finished\n"
     ]
    },
    {
     "data": {
      "text/plain": [
       "0.8010033444816054"
      ]
     },
     "execution_count": 91,
     "metadata": {},
     "output_type": "execute_result"
    }
   ],
   "source": [
    "# Gradient boosting tunning\n",
    "kfold = StratifiedKFold(n_splits=10)\n",
    "\n",
    "GBC = GradientBoostingClassifier()\n",
    "gb_param_grid = {'loss' : [\"deviance\"],\n",
    "              'n_estimators' : [100,200,300],\n",
    "              'learning_rate': [0.1, 0.05, 0.01],\n",
    "              'max_depth': [4, 8],\n",
    "              'min_samples_leaf': [100,150],\n",
    "              'max_features': [0.3, 0.1] \n",
    "              }\n",
    "\n",
    "gsGBC = GridSearchCV(GBC, param_grid = gb_param_grid, cv=kfold, scoring=\"accuracy\", n_jobs= 4, verbose = 1)\n",
    "\n",
    "gsGBC.fit(X_train, y_train)\n",
    "\n",
    "GBC_best = gsGBC.best_estimator_\n",
    "\n",
    "# Best score\n",
    "gsGBC.best_score_"
   ]
  },
  {
   "cell_type": "code",
   "execution_count": 130,
   "metadata": {},
   "outputs": [
    {
     "name": "stdout",
     "output_type": "stream",
     "text": [
      "Accuracy: 80.0%\n"
     ]
    }
   ],
   "source": [
    "predictions = gsGBC.predict(X_test)\n",
    "accuracy = accuracy_score(y_test, predictions) * 100\n",
    "print(\"Accuracy: \" + str(accuracy) + \"%\")"
   ]
  },
  {
   "cell_type": "code",
   "execution_count": 131,
   "metadata": {},
   "outputs": [],
   "source": [
    "train_labels = gsGBC.predict(X_train)\n",
    "test_labels = gsGBC.predict(X_test)"
   ]
  },
  {
   "cell_type": "code",
   "execution_count": 132,
   "metadata": {},
   "outputs": [],
   "source": [
    "output_labels = list(train_labels) + list(test_labels)"
   ]
  },
  {
   "cell_type": "code",
   "execution_count": 141,
   "metadata": {},
   "outputs": [
    {
     "data": {
      "text/html": [
       "<div>\n",
       "<style scoped>\n",
       "    .dataframe tbody tr th:only-of-type {\n",
       "        vertical-align: middle;\n",
       "    }\n",
       "\n",
       "    .dataframe tbody tr th {\n",
       "        vertical-align: top;\n",
       "    }\n",
       "\n",
       "    .dataframe thead th {\n",
       "        text-align: right;\n",
       "    }\n",
       "</style>\n",
       "<table border=\"1\" class=\"dataframe\">\n",
       "  <thead>\n",
       "    <tr style=\"text-align: right;\">\n",
       "      <th></th>\n",
       "      <th>Recency</th>\n",
       "      <th>Frequency</th>\n",
       "      <th>Monetary</th>\n",
       "      <th>Time</th>\n",
       "      <th>Label</th>\n",
       "    </tr>\n",
       "  </thead>\n",
       "  <tbody>\n",
       "    <tr>\n",
       "      <th>0</th>\n",
       "      <td>2</td>\n",
       "      <td>50</td>\n",
       "      <td>12500</td>\n",
       "      <td>98</td>\n",
       "      <td>1</td>\n",
       "    </tr>\n",
       "    <tr>\n",
       "      <th>1</th>\n",
       "      <td>0</td>\n",
       "      <td>13</td>\n",
       "      <td>3250</td>\n",
       "      <td>28</td>\n",
       "      <td>1</td>\n",
       "    </tr>\n",
       "    <tr>\n",
       "      <th>2</th>\n",
       "      <td>1</td>\n",
       "      <td>16</td>\n",
       "      <td>4000</td>\n",
       "      <td>35</td>\n",
       "      <td>1</td>\n",
       "    </tr>\n",
       "    <tr>\n",
       "      <th>3</th>\n",
       "      <td>2</td>\n",
       "      <td>20</td>\n",
       "      <td>5000</td>\n",
       "      <td>45</td>\n",
       "      <td>1</td>\n",
       "    </tr>\n",
       "    <tr>\n",
       "      <th>4</th>\n",
       "      <td>1</td>\n",
       "      <td>24</td>\n",
       "      <td>6000</td>\n",
       "      <td>77</td>\n",
       "      <td>0</td>\n",
       "    </tr>\n",
       "  </tbody>\n",
       "</table>\n",
       "</div>"
      ],
      "text/plain": [
       "   Recency  Frequency  Monetary  Time  Label\n",
       "0        2         50     12500    98      1\n",
       "1        0         13      3250    28      1\n",
       "2        1         16      4000    35      1\n",
       "3        2         20      5000    45      1\n",
       "4        1         24      6000    77      0"
      ]
     },
     "execution_count": 141,
     "metadata": {},
     "output_type": "execute_result"
    }
   ],
   "source": [
    "output_df['Label'] = labels\n",
    "output_df.head()"
   ]
  },
  {
   "cell_type": "code",
   "execution_count": 226,
   "metadata": {},
   "outputs": [],
   "source": [
    "names_list = []\n",
    "blood_groups_list, phone_numbers = [], []\n",
    "blood_groups = [\"A+\", \"A-\", \"B+\", \"B-\", \"O+\", \"O-\", \"AB+\", \"AB-\"]\n",
    "lat_values, long_values = [], []\n",
    "\n",
    "def gen_phone():\n",
    "    first = str(random.randint(100,999))\n",
    "    second = str(random.randint(1,888)).zfill(3)\n",
    "\n",
    "    last = (str(random.randint(1,9998)).zfill(4))\n",
    "    while last in ['1111','2222','3333','4444','5555','6666','7777','8888']:\n",
    "        last = (str(random.randint(1,9998)).zfill(4))\n",
    "\n",
    "    return '{}-{}-{}'.format(first,second, last)\n",
    "\n",
    "def create_random_point(x0,y0,distance):\n",
    "    \"\"\"\n",
    "            Utility method for simulation of the points\n",
    "    \"\"\"   \n",
    "    r = distance/ 111300\n",
    "    u = np.random.uniform(0,1)\n",
    "    v = np.random.uniform(0,1)\n",
    "    w = r * np.sqrt(u)\n",
    "    t = 2 * np.pi * v\n",
    "    x = w * np.cos(t)\n",
    "    x1 = x / np.cos(y0)\n",
    "    y = w * np.sin(t)\n",
    "    return (x0 + x1, y0 +y)\n",
    "\n",
    "latitude1,longitude1 = 33.4484,-112.0740\n",
    "\n",
    "for i in range(748):\n",
    "    blood_groups_list.append(random.choice(blood_groups))\n",
    "    names_list.append(names.get_full_name())\n",
    "    phone_numbers.append(gen_phone())\n",
    "    lat, long = create_random_point(latitude1, longitude1, 15000)\n",
    "    lat_values.append(lat)\n",
    "    long_values.append(long)\n",
    "    "
   ]
  },
  {
   "cell_type": "code",
   "execution_count": 227,
   "metadata": {},
   "outputs": [],
   "source": [
    "output_df[\"Name\"] = names_list\n",
    "output_df[\"Blood Group\"]= blood_groups_list\n",
    "output_df[\"Phone Number\"] = phone_numbers\n",
    "output_df[\"Lat\"] = lat_values\n",
    "output_df[\"Long\"] = long_values"
   ]
  },
  {
   "cell_type": "code",
   "execution_count": 228,
   "metadata": {},
   "outputs": [
    {
     "data": {
      "text/html": [
       "<div>\n",
       "<style scoped>\n",
       "    .dataframe tbody tr th:only-of-type {\n",
       "        vertical-align: middle;\n",
       "    }\n",
       "\n",
       "    .dataframe tbody tr th {\n",
       "        vertical-align: top;\n",
       "    }\n",
       "\n",
       "    .dataframe thead th {\n",
       "        text-align: right;\n",
       "    }\n",
       "</style>\n",
       "<table border=\"1\" class=\"dataframe\">\n",
       "  <thead>\n",
       "    <tr style=\"text-align: right;\">\n",
       "      <th></th>\n",
       "      <th>Recency</th>\n",
       "      <th>Frequency</th>\n",
       "      <th>Monetary</th>\n",
       "      <th>Time</th>\n",
       "      <th>Label</th>\n",
       "      <th>Name</th>\n",
       "      <th>Blood Group</th>\n",
       "      <th>Phone Number</th>\n",
       "      <th>Lat</th>\n",
       "      <th>Long</th>\n",
       "    </tr>\n",
       "  </thead>\n",
       "  <tbody>\n",
       "    <tr>\n",
       "      <th>0</th>\n",
       "      <td>2</td>\n",
       "      <td>50</td>\n",
       "      <td>12500</td>\n",
       "      <td>98</td>\n",
       "      <td>1</td>\n",
       "      <td>David Young</td>\n",
       "      <td>B+</td>\n",
       "      <td>743-107-8251</td>\n",
       "      <td>33.515607</td>\n",
       "      <td>-111.958959</td>\n",
       "    </tr>\n",
       "    <tr>\n",
       "      <th>1</th>\n",
       "      <td>0</td>\n",
       "      <td>13</td>\n",
       "      <td>3250</td>\n",
       "      <td>28</td>\n",
       "      <td>1</td>\n",
       "      <td>Vincent Cremeans</td>\n",
       "      <td>AB+</td>\n",
       "      <td>367-391-1765</td>\n",
       "      <td>33.580894</td>\n",
       "      <td>-112.150508</td>\n",
       "    </tr>\n",
       "    <tr>\n",
       "      <th>2</th>\n",
       "      <td>1</td>\n",
       "      <td>16</td>\n",
       "      <td>4000</td>\n",
       "      <td>35</td>\n",
       "      <td>1</td>\n",
       "      <td>Jason Munoz</td>\n",
       "      <td>AB-</td>\n",
       "      <td>561-723-7137</td>\n",
       "      <td>33.628149</td>\n",
       "      <td>-112.004967</td>\n",
       "    </tr>\n",
       "    <tr>\n",
       "      <th>3</th>\n",
       "      <td>2</td>\n",
       "      <td>20</td>\n",
       "      <td>5000</td>\n",
       "      <td>45</td>\n",
       "      <td>1</td>\n",
       "      <td>Becky Oconnor</td>\n",
       "      <td>AB-</td>\n",
       "      <td>257-511-0139</td>\n",
       "      <td>33.525067</td>\n",
       "      <td>-112.070459</td>\n",
       "    </tr>\n",
       "    <tr>\n",
       "      <th>4</th>\n",
       "      <td>1</td>\n",
       "      <td>24</td>\n",
       "      <td>6000</td>\n",
       "      <td>77</td>\n",
       "      <td>0</td>\n",
       "      <td>Mickey Chavez</td>\n",
       "      <td>A+</td>\n",
       "      <td>732-421-0985</td>\n",
       "      <td>33.361807</td>\n",
       "      <td>-111.989084</td>\n",
       "    </tr>\n",
       "    <tr>\n",
       "      <th>5</th>\n",
       "      <td>4</td>\n",
       "      <td>4</td>\n",
       "      <td>1000</td>\n",
       "      <td>4</td>\n",
       "      <td>0</td>\n",
       "      <td>Amanda Sanchez</td>\n",
       "      <td>O-</td>\n",
       "      <td>748-758-5125</td>\n",
       "      <td>33.422955</td>\n",
       "      <td>-112.155187</td>\n",
       "    </tr>\n",
       "    <tr>\n",
       "      <th>6</th>\n",
       "      <td>2</td>\n",
       "      <td>7</td>\n",
       "      <td>1750</td>\n",
       "      <td>14</td>\n",
       "      <td>1</td>\n",
       "      <td>Mark Frye</td>\n",
       "      <td>O-</td>\n",
       "      <td>204-314-6004</td>\n",
       "      <td>33.439548</td>\n",
       "      <td>-112.061050</td>\n",
       "    </tr>\n",
       "    <tr>\n",
       "      <th>7</th>\n",
       "      <td>1</td>\n",
       "      <td>12</td>\n",
       "      <td>3000</td>\n",
       "      <td>35</td>\n",
       "      <td>0</td>\n",
       "      <td>Erin Tabor</td>\n",
       "      <td>AB-</td>\n",
       "      <td>842-172-3112</td>\n",
       "      <td>33.628309</td>\n",
       "      <td>-112.138774</td>\n",
       "    </tr>\n",
       "    <tr>\n",
       "      <th>8</th>\n",
       "      <td>2</td>\n",
       "      <td>9</td>\n",
       "      <td>2250</td>\n",
       "      <td>22</td>\n",
       "      <td>1</td>\n",
       "      <td>Laverne Nardone</td>\n",
       "      <td>O-</td>\n",
       "      <td>967-295-8605</td>\n",
       "      <td>33.588712</td>\n",
       "      <td>-112.156972</td>\n",
       "    </tr>\n",
       "    <tr>\n",
       "      <th>9</th>\n",
       "      <td>5</td>\n",
       "      <td>46</td>\n",
       "      <td>11500</td>\n",
       "      <td>98</td>\n",
       "      <td>1</td>\n",
       "      <td>Jasper Beals</td>\n",
       "      <td>O+</td>\n",
       "      <td>484-287-4215</td>\n",
       "      <td>33.360062</td>\n",
       "      <td>-112.126752</td>\n",
       "    </tr>\n",
       "  </tbody>\n",
       "</table>\n",
       "</div>"
      ],
      "text/plain": [
       "   Recency  Frequency  Monetary  Time  Label              Name Blood Group  \\\n",
       "0        2         50     12500    98      1       David Young          B+   \n",
       "1        0         13      3250    28      1  Vincent Cremeans         AB+   \n",
       "2        1         16      4000    35      1       Jason Munoz         AB-   \n",
       "3        2         20      5000    45      1     Becky Oconnor         AB-   \n",
       "4        1         24      6000    77      0     Mickey Chavez          A+   \n",
       "5        4          4      1000     4      0    Amanda Sanchez          O-   \n",
       "6        2          7      1750    14      1         Mark Frye          O-   \n",
       "7        1         12      3000    35      0        Erin Tabor         AB-   \n",
       "8        2          9      2250    22      1   Laverne Nardone          O-   \n",
       "9        5         46     11500    98      1      Jasper Beals          O+   \n",
       "\n",
       "   Phone Number        Lat        Long  \n",
       "0  743-107-8251  33.515607 -111.958959  \n",
       "1  367-391-1765  33.580894 -112.150508  \n",
       "2  561-723-7137  33.628149 -112.004967  \n",
       "3  257-511-0139  33.525067 -112.070459  \n",
       "4  732-421-0985  33.361807 -111.989084  \n",
       "5  748-758-5125  33.422955 -112.155187  \n",
       "6  204-314-6004  33.439548 -112.061050  \n",
       "7  842-172-3112  33.628309 -112.138774  \n",
       "8  967-295-8605  33.588712 -112.156972  \n",
       "9  484-287-4215  33.360062 -112.126752  "
      ]
     },
     "execution_count": 228,
     "metadata": {},
     "output_type": "execute_result"
    }
   ],
   "source": [
    "output_df.head(10)"
   ]
  },
  {
   "cell_type": "code",
   "execution_count": 229,
   "metadata": {},
   "outputs": [
    {
     "data": {
      "text/plain": [
       "B+     107\n",
       "AB-    105\n",
       "O-      97\n",
       "B-      94\n",
       "A+      94\n",
       "AB+     91\n",
       "A-      86\n",
       "O+      74\n",
       "Name: Blood Group, dtype: int64"
      ]
     },
     "execution_count": 229,
     "metadata": {},
     "output_type": "execute_result"
    }
   ],
   "source": [
    "output_df['Blood Group'].value_counts()"
   ]
  },
  {
   "cell_type": "code",
   "execution_count": 230,
   "metadata": {},
   "outputs": [],
   "source": [
    "output_df.to_csv(\"donors.csv\", index=False)"
   ]
  },
  {
   "cell_type": "code",
   "execution_count": 235,
   "metadata": {},
   "outputs": [],
   "source": [
    "modified_df = pd.DataFrame()\n",
    "modified_df[\"Name\"] = output_df.Name\n",
    "modified_df[\"Phone\"] = output_df[\"Phone Number\"]\n",
    "modified_df[\"Lat\"] = output_df[\"Lat\"]\n",
    "modified_df[\"Long\"] = output_df[\"Long\"]\n",
    "modified_df[\"BloodGroup\"] = output_df[\"Blood Group\"]\n",
    "modified_df[\"Label\"] = output_df[\"Label\"]"
   ]
  },
  {
   "cell_type": "code",
   "execution_count": 237,
   "metadata": {},
   "outputs": [],
   "source": [
    "modified_df.to_csv(\"table_data.csv\", index=False)"
   ]
  }
 ],
 "metadata": {
  "kernelspec": {
   "display_name": "Python 3",
   "language": "python",
   "name": "python3"
  },
  "language_info": {
   "codemirror_mode": {
    "name": "ipython",
    "version": 3
   },
   "file_extension": ".py",
   "mimetype": "text/x-python",
   "name": "python",
   "nbconvert_exporter": "python",
   "pygments_lexer": "ipython3",
   "version": "3.6.7"
  }
 },
 "nbformat": 4,
 "nbformat_minor": 2
}
